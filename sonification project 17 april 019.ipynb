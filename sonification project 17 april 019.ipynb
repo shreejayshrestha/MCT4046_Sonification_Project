{
 "cells": [
  {
   "cell_type": "code",
   "execution_count": 1,
   "metadata": {},
   "outputs": [],
   "source": [
    "import pandas as pd\n",
    "from matplotlib import pyplot as plt"
   ]
  },
  {
   "cell_type": "code",
   "execution_count": 2,
   "metadata": {},
   "outputs": [],
   "source": [
    "d = pd.read_csv(\"Data_WM.csv\")"
   ]
  },
  {
   "cell_type": "code",
   "execution_count": 3,
   "metadata": {
    "scrolled": true
   },
   "outputs": [
    {
     "data": {
      "text/html": [
       "<div>\n",
       "<style scoped>\n",
       "    .dataframe tbody tr th:only-of-type {\n",
       "        vertical-align: middle;\n",
       "    }\n",
       "\n",
       "    .dataframe tbody tr th {\n",
       "        vertical-align: top;\n",
       "    }\n",
       "\n",
       "    .dataframe thead th {\n",
       "        text-align: right;\n",
       "    }\n",
       "</style>\n",
       "<table border=\"1\" class=\"dataframe\">\n",
       "  <thead>\n",
       "    <tr style=\"text-align: right;\">\n",
       "      <th></th>\n",
       "      <th>AADF</th>\n",
       "      <th>PedalCycle</th>\n",
       "      <th>MotorCycle</th>\n",
       "      <th>CarTaxies</th>\n",
       "      <th>BusCoaches</th>\n",
       "    </tr>\n",
       "  </thead>\n",
       "  <tbody>\n",
       "    <tr>\n",
       "      <th>0</th>\n",
       "      <td>2000</td>\n",
       "      <td>79920</td>\n",
       "      <td>222525</td>\n",
       "      <td>26956216</td>\n",
       "      <td>367302</td>\n",
       "    </tr>\n",
       "    <tr>\n",
       "      <th>1</th>\n",
       "      <td>2001</td>\n",
       "      <td>78138</td>\n",
       "      <td>232931</td>\n",
       "      <td>27309361</td>\n",
       "      <td>377048</td>\n",
       "    </tr>\n",
       "    <tr>\n",
       "      <th>2</th>\n",
       "      <td>2002</td>\n",
       "      <td>73433</td>\n",
       "      <td>237346</td>\n",
       "      <td>27695209</td>\n",
       "      <td>353026</td>\n",
       "    </tr>\n",
       "    <tr>\n",
       "      <th>3</th>\n",
       "      <td>2003</td>\n",
       "      <td>73426</td>\n",
       "      <td>267168</td>\n",
       "      <td>27509617</td>\n",
       "      <td>322425</td>\n",
       "    </tr>\n",
       "    <tr>\n",
       "      <th>4</th>\n",
       "      <td>2004</td>\n",
       "      <td>61833</td>\n",
       "      <td>225081</td>\n",
       "      <td>28108929</td>\n",
       "      <td>293387</td>\n",
       "    </tr>\n",
       "    <tr>\n",
       "      <th>5</th>\n",
       "      <td>2005</td>\n",
       "      <td>54449</td>\n",
       "      <td>214996</td>\n",
       "      <td>28135045</td>\n",
       "      <td>297896</td>\n",
       "    </tr>\n",
       "    <tr>\n",
       "      <th>6</th>\n",
       "      <td>2006</td>\n",
       "      <td>75335</td>\n",
       "      <td>213851</td>\n",
       "      <td>28273059</td>\n",
       "      <td>300005</td>\n",
       "    </tr>\n",
       "    <tr>\n",
       "      <th>7</th>\n",
       "      <td>2007</td>\n",
       "      <td>51618</td>\n",
       "      <td>212727</td>\n",
       "      <td>28132190</td>\n",
       "      <td>287112</td>\n",
       "    </tr>\n",
       "    <tr>\n",
       "      <th>8</th>\n",
       "      <td>2008</td>\n",
       "      <td>63598</td>\n",
       "      <td>205438</td>\n",
       "      <td>27845252</td>\n",
       "      <td>270097</td>\n",
       "    </tr>\n",
       "    <tr>\n",
       "      <th>9</th>\n",
       "      <td>2009</td>\n",
       "      <td>72132</td>\n",
       "      <td>210086</td>\n",
       "      <td>28232917</td>\n",
       "      <td>274654</td>\n",
       "    </tr>\n",
       "    <tr>\n",
       "      <th>10</th>\n",
       "      <td>2010</td>\n",
       "      <td>72116</td>\n",
       "      <td>196972</td>\n",
       "      <td>27854236</td>\n",
       "      <td>290439</td>\n",
       "    </tr>\n",
       "    <tr>\n",
       "      <th>11</th>\n",
       "      <td>2011</td>\n",
       "      <td>77867</td>\n",
       "      <td>196507</td>\n",
       "      <td>28550444</td>\n",
       "      <td>279982</td>\n",
       "    </tr>\n",
       "    <tr>\n",
       "      <th>12</th>\n",
       "      <td>2012</td>\n",
       "      <td>74252</td>\n",
       "      <td>183164</td>\n",
       "      <td>28394607</td>\n",
       "      <td>285898</td>\n",
       "    </tr>\n",
       "    <tr>\n",
       "      <th>13</th>\n",
       "      <td>2013</td>\n",
       "      <td>72482</td>\n",
       "      <td>187843</td>\n",
       "      <td>28160807</td>\n",
       "      <td>276562</td>\n",
       "    </tr>\n",
       "    <tr>\n",
       "      <th>14</th>\n",
       "      <td>2014</td>\n",
       "      <td>70136</td>\n",
       "      <td>193522</td>\n",
       "      <td>29010942</td>\n",
       "      <td>274037</td>\n",
       "    </tr>\n",
       "    <tr>\n",
       "      <th>15</th>\n",
       "      <td>2015</td>\n",
       "      <td>68440</td>\n",
       "      <td>190789</td>\n",
       "      <td>29309801</td>\n",
       "      <td>274839</td>\n",
       "    </tr>\n",
       "    <tr>\n",
       "      <th>16</th>\n",
       "      <td>2016</td>\n",
       "      <td>70844</td>\n",
       "      <td>189350</td>\n",
       "      <td>29984013</td>\n",
       "      <td>250452</td>\n",
       "    </tr>\n",
       "    <tr>\n",
       "      <th>17</th>\n",
       "      <td>2017</td>\n",
       "      <td>72502</td>\n",
       "      <td>186612</td>\n",
       "      <td>30250168</td>\n",
       "      <td>227700</td>\n",
       "    </tr>\n",
       "  </tbody>\n",
       "</table>\n",
       "</div>"
      ],
      "text/plain": [
       "    AADF  PedalCycle  MotorCycle  CarTaxies  BusCoaches\n",
       "0   2000       79920      222525   26956216      367302\n",
       "1   2001       78138      232931   27309361      377048\n",
       "2   2002       73433      237346   27695209      353026\n",
       "3   2003       73426      267168   27509617      322425\n",
       "4   2004       61833      225081   28108929      293387\n",
       "5   2005       54449      214996   28135045      297896\n",
       "6   2006       75335      213851   28273059      300005\n",
       "7   2007       51618      212727   28132190      287112\n",
       "8   2008       63598      205438   27845252      270097\n",
       "9   2009       72132      210086   28232917      274654\n",
       "10  2010       72116      196972   27854236      290439\n",
       "11  2011       77867      196507   28550444      279982\n",
       "12  2012       74252      183164   28394607      285898\n",
       "13  2013       72482      187843   28160807      276562\n",
       "14  2014       70136      193522   29010942      274037\n",
       "15  2015       68440      190789   29309801      274839\n",
       "16  2016       70844      189350   29984013      250452\n",
       "17  2017       72502      186612   30250168      227700"
      ]
     },
     "execution_count": 3,
     "metadata": {},
     "output_type": "execute_result"
    }
   ],
   "source": [
    "d"
   ]
  },
  {
   "cell_type": "code",
   "execution_count": 4,
   "metadata": {},
   "outputs": [
    {
     "data": {
      "text/plain": [
       "18"
      ]
     },
     "execution_count": 4,
     "metadata": {},
     "output_type": "execute_result"
    }
   ],
   "source": [
    "len(d)"
   ]
  },
  {
   "cell_type": "code",
   "execution_count": 5,
   "metadata": {},
   "outputs": [
    {
     "data": {
      "text/plain": [
       "[<matplotlib.lines.Line2D at 0x12f0a5e82b0>]"
      ]
     },
     "execution_count": 5,
     "metadata": {},
     "output_type": "execute_result"
    },
    {
     "data": {
      "image/png": "[encoded data removed]",
      "text/plain": [
       "<Figure size 432x288 with 1 Axes>"
      ]
     },
     "metadata": {
      "needs_background": "light"
     },
     "output_type": "display_data"
    }
   ],
   "source": [
    "plt.plot(d.MotorCycle)"
   ]
  },
  {
   "cell_type": "code",
   "execution_count": 6,
   "metadata": {},
   "outputs": [
    {
     "data": {
      "application/javascript": [
       "Jupyter.keyboard_manager.command_shortcuts.add_shortcut(\n",
       "                                        'Ctrl-.', {\n",
       "                                        help : 'sc.cmd(\"s.freeAll\")',\n",
       "                                        help_index : 'zz',\n",
       "                                        handler : function (event) {\n",
       "                                            IPython.notebook.kernel.execute(\"sc.cmd('s.freeAll')\")\n",
       "                                            return true;}\n",
       "                                    });"
      ],
      "text/plain": [
       "<IPython.core.display.Javascript object>"
      ]
     },
     "metadata": {},
     "output_type": "display_data"
    }
   ],
   "source": [
    "import time, random, os\n",
    "import sc3nb as scn"
   ]
  },
  {
   "cell_type": "code",
   "execution_count": 12,
   "metadata": {},
   "outputs": [
    {
     "name": "stdout",
     "output_type": "stream",
     "text": [
      "Starting sclang...\n",
      "Done.\n",
      "Registering UDP callback...\n",
      "Done.\n",
      "Sclang started on non default port: 57126\n",
      "Booting server...\n",
      "Done.\n",
      "-> sc3nb started\n"
     ]
    }
   ],
   "source": [
    "sc = scn.startup()  # optionally use argument sclangpath=\"/path/to/your/sclang\"\n"
   ]
  },
  {
   "cell_type": "code",
   "execution_count": 13,
   "metadata": {},
   "outputs": [],
   "source": [
    "%%sc \n",
    "SynthDef (\"bus\", {arg out=0, freqb= 50, mul=0.7, ampb = 0.2;\n",
    "    var f;\n",
    "    f = Saw.ar(freqb,mul,0);\n",
    "    Out.ar(out,f*ampb);\n",
    "}).add;"
   ]
  },
  {
   "cell_type": "code",
   "execution_count": 14,
   "metadata": {},
   "outputs": [],
   "source": [
    "%sc g= Synth.new(\\bus)"
   ]
  },
  {
   "cell_type": "code",
   "execution_count": 15,
   "metadata": {},
   "outputs": [],
   "source": [
    "%sc g.free"
   ]
  },
  {
   "cell_type": "code",
   "execution_count": 16,
   "metadata": {},
   "outputs": [],
   "source": [
    "%sc m=Synth.new(\"s2\", [\\amp, 0.04])"
   ]
  },
  {
   "cell_type": "code",
   "execution_count": 17,
   "metadata": {},
   "outputs": [],
   "source": [
    "%sc m.free"
   ]
  },
  {
   "cell_type": "code",
   "execution_count": 18,
   "metadata": {},
   "outputs": [],
   "source": [
    "%%sc\n",
    "SynthDef (\"car\", {arg out=0, freqc = 2.5, mul2= 10, ampc = 1;\n",
    "    var f;\n",
    "    f = LFPulse.ar(LFPulse.kr(freqc, 0, 0.3, mul2, 200), 0, 0.8, 0.1);\n",
    "    Out.ar(out,f*ampc);\n",
    "}).add;"
   ]
  },
  {
   "cell_type": "code",
   "execution_count": 19,
   "metadata": {},
   "outputs": [],
   "source": [
    "%sc f= Synth.new(\\car)"
   ]
  },
  {
   "cell_type": "code",
   "execution_count": 20,
   "metadata": {},
   "outputs": [],
   "source": [
    "%sc f.free"
   ]
  },
  {
   "cell_type": "code",
   "execution_count": 21,
   "metadata": {},
   "outputs": [],
   "source": [
    "%%sc\n",
    "SynthDef(\"motorbike\", { arg out=0, freqm= 30, mul3 = 100, ampm = 1;\n",
    "    var m;\n",
    "    m = RLPF.ar(LFPulse.ar(SinOsc.ar(10, 0, 0, 10),0.5, 0.2),freqm,0.5,100);\n",
    "    Out.ar(out, m*ampm);\n",
    "}).add;"
   ]
  },
  {
   "cell_type": "code",
   "execution_count": 22,
   "metadata": {},
   "outputs": [],
   "source": [
    "%sc e = Synth.new(\\motorbike)\n",
    "%sc "
   ]
  },
  {
   "cell_type": "code",
   "execution_count": 23,
   "metadata": {},
   "outputs": [],
   "source": [
    "%sc e.free"
   ]
  },
  {
   "cell_type": "code",
   "execution_count": 24,
   "metadata": {},
   "outputs": [],
   "source": [
    "queue = scn.TimedQueue()"
   ]
  },
  {
   "cell_type": "code",
   "execution_count": 27,
   "metadata": {},
   "outputs": [],
   "source": [
    "t0 = time.time()\n",
    "delay = 0.2\n",
    "\n",
    "\n",
    "\n",
    "# instantiate synths\n",
    "#queue.put(t0+delay, sc.msg, (\"/s_new\", [\"bus\", 1234, 1, 1]))\n",
    "#queue.put(t0+delay, sc.msg, (\"/s_new\", [\"car\", 1235, 1, 1]))\n",
    "queue.put(t0+delay, sc.msg, (\"/s_new\", [\"motorbike\", 1236, 1, 1]))\n",
    "\n",
    "sc.prepare_for_record(0, \"my_recording.wav\", 99, 2, \"wav\", \"int16\")  # buffer 99 will be used\n",
    "sc.record(t0+0.1, 2001)  # recording starts in 200 ms\n",
    "#sc.bundle(0.2, \"/s_new\", [\"car\", 1234, 1, 1]) \n",
    "sc.stop_recording(t0+10) # and stops in 1 seconds\n",
    "\n",
    "# modulate with data while playing through time\n",
    "for i in range (len(d)):\n",
    "    onset = scn.linlin(i, 0, 18, 0, 9)\n",
    "    #b_freq= scn.linlin((d.iloc[i][4]), min(d.BusCoaches),max(d.BusCoaches), 10, 100)\n",
    "    #print(b_freq)\n",
    "    #b_amp = scn.linlin((d.iloc[i][4]), min(d.BusCoaches),max(d.BusCoaches), 0.2, 10)\n",
    "    #print(b_amp)\n",
    "    #c_freq= scn.linlin((d.iloc[i][3]), min(d.CarTaxies),max(d.CarTaxies), 0.2,15)\n",
    "    #c_amp= scn.linlin((d.iloc[i][3]), min(d.CarTaxies),max(d.CarTaxies), 0.2,10)\n",
    "    m_freq = scn.linlin((d.iloc[i][2]), min(d.MotorCycle),max(d.MotorCycle), 30,300)\n",
    "    m_amp = scn.linlin((d.iloc[i][2]), min(d.MotorCycle),max(d.MotorCycle), 0.2,10)\n",
    "    #queue.put(t0 + delay + onset, sc.msg, (\"/n_set\",\n",
    "        #[1234,'freqb', b_freq,'ampb',b_amp]))\n",
    "    #queue.put(t0 + delay + onset, sc.msg, (\"/n_set\", \n",
    "     #   [1235, 'freqc', c_freq,'ampc',c_amp]))    \n",
    "    queue.put(t0 + delay + onset, sc.msg, (\"/n_set\", \n",
    "        [1236, 'freqm',m_freq,'ampm', m_amp]))\n",
    "           \n",
    "    \n",
    "# shut down synth when finished\n",
    "#queue.put(t0 + delay + onset, sc.msg, (\"/n_free\", 1234))\n",
    "#queue.put(t0 + delay + onset, sc.msg, (\"/n_free\", 1235))\n",
    "queue.put(t0 + delay + onset, sc.msg, (\"/n_free\", 1236))"
   ]
  },
  {
   "cell_type": "code",
   "execution_count": null,
   "metadata": {},
   "outputs": [],
   "source": [
    "plt.plot(d.CarTaxies)\n",
    "plt.xlim(0,18)"
   ]
  },
  {
   "cell_type": "code",
   "execution_count": null,
   "metadata": {},
   "outputs": [],
   "source": [
    "print(mul2)"
   ]
  },
  {
   "cell_type": "code",
   "execution_count": null,
   "metadata": {},
   "outputs": [],
   "source": []
  }
 ],
 "metadata": {
  "kernelspec": {
   "display_name": "Python 3",
   "language": "python",
   "name": "python3"
  },
  "language_info": {
   "codemirror_mode": {
    "name": "ipython",
    "version": 3
   },
   "file_extension": ".py",
   "mimetype": "text/x-python",
   "name": "python",
   "nbconvert_exporter": "python",
   "pygments_lexer": "ipython3",
   "version": "3.7.1"
  }
 },
 "nbformat": 4,
 "nbformat_minor": 2
}
