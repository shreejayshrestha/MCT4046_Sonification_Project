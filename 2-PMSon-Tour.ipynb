{
 "cells": [
  {
   "cell_type": "markdown",
   "metadata": {},
   "source": [
    "# Unit 3: Parameter Mapping Sonification"
   ]
  },
  {
   "cell_type": "code",
   "execution_count": 1,
   "metadata": {
    "code_folding": [
     0
    ]
   },
   "outputs": [
    {
     "data": {
      "application/javascript": [
       "Jupyter.keyboard_manager.command_shortcuts.add_shortcut(\n",
       "                                        'cmd-.', {\n",
       "                                        help : 'sc.cmd(\"s.freeAll\")',\n",
       "                                        help_index : 'zz',\n",
       "                                        handler : function (event) {\n",
       "                                            IPython.notebook.kernel.execute(\"sc.cmd('s.freeAll')\")\n",
       "                                            return true;}\n",
       "                                    });"
      ],
      "text/plain": [
       "<IPython.core.display.Javascript object>"
      ]
     },
     "metadata": {},
     "output_type": "display_data"
    }
   ],
   "source": [
    "# setup, heading\n",
    "import time, random, os\n",
    "import numpy as np\n",
    "import scipy, scipy.signal\n",
    "import matplotlib.pyplot as plt\n",
    "%matplotlib inline\n",
    "\n",
    "import sc3nb as scn"
   ]
  },
  {
   "cell_type": "code",
   "execution_count": 2,
   "metadata": {
    "code_folding": []
   },
   "outputs": [
    {
     "name": "stdout",
     "output_type": "stream",
     "text": [
      "Starting sclang...\n",
      "Done.\n",
      "Registering UDP callback...\n",
      "Done.\n",
      "Sclang started on non default port: 57121\n",
      "Booting server...\n",
      "Done.\n",
      "\"sc3nb started\";\n",
      "-> sc3nb started\n",
      "sc3> sc3> \n"
     ]
    }
   ],
   "source": [
    "sc = scn.startup()  # optionally use argument sclangpath=\"/path/to/your/sclang\""
   ]
  },
  {
   "cell_type": "markdown",
   "metadata": {},
   "source": [
    "### Definitions"
   ]
  },
  {
   "cell_type": "markdown",
   "metadata": {},
   "source": [
    "* Definition: **Parameter Mapping Sonification (PMSon)** is\n",
    "    * a **MAPPING** from data features\n",
    "    * to **PARAMETERS** of a synthesizer\n",
    "    * which in turn creates a **data-driven sound** (event or stream)\n",
    "    * so that changes in data **systematically** result in sound changes.\n",
    "    \n",
    "* Think of it as the auditory analogue of scatter plots\n",
    "    * where x,y,z, color, size, shape, texture are a mapping from data\n",
    "\n",
    "* In most practical PMSon, a 1:1 mapping from a single feature to a single parameter is established\n",
    "    * e.g. mapping an ECG signal (voltage) to frequency of a sine tone\n",
    "\n",
    "* More generally, we can have:\n",
    "    * 1:N mappings: a single variable affects various parameters, each with its own mapping function\n",
    "    * N:1 mappings (called parameter nesting): a variable is used for various ends, e.g. time: temporal nesting\n",
    "    * N:M mappings: mixtures of variables "
   ]
  },
  {
   "cell_type": "markdown",
   "metadata": {},
   "source": [
    "* PMSon is applicable to all auditory display tasks, the most relevant are:\n",
    "    * data exploration, detecting previously unknown structure in the data\n",
    "    * for process monitoring, detecting changes as they happen\n",
    "    * summaries: creating overviews of whole data sets\n",
    "    * rapid scanning: interactively brushing through data, e.g. in search of features\n",
    "    * sensory substitution and augmentation"
   ]
  },
  {
   "cell_type": "markdown",
   "metadata": {},
   "source": [
    "### Overview of typical PMSon parameters"
   ]
  },
  {
   "cell_type": "markdown",
   "metadata": {},
   "source": [
    "**Amplitude --> Level**"
   ]
  },
  {
   "cell_type": "markdown",
   "metadata": {},
   "source": [
    "* Signal amplitude (arb units, or V) affects **perceived loudness**\n",
    "* Example: $s(t) = A(t)\\cdot\\sin(\\omega t)$\n",
    "* The amplitude is the factor $A$.\n",
    "* If it is a function of time $A(t)$ it also models the so-called envelope (see below)\n",
    "* Here is a set of tones with increasing amplitude"
   ]
  },
  {
   "cell_type": "code",
   "execution_count": null,
   "metadata": {},
   "outputs": [],
   "source": [
    "%sc Synth.new(\"s1\", [\"freq\", 400, \"num\", 1, \"amp\", 0.2])"
   ]
  },
  {
   "cell_type": "code",
   "execution_count": null,
   "metadata": {},
   "outputs": [],
   "source": [
    "for v in range(0, 10):\n",
    "    amp = scn.linlin(v, 0, 10, 0, 0.3)\n",
    "    %sc Synth.new(\"s1\", [\"freq\", 400, \"num\", 1, \"amp\", ^amp])\n",
    "    time.sleep(0.3)"
   ]
  },
  {
   "cell_type": "markdown",
   "metadata": {},
   "source": [
    "* obviously the perceived loudness does not seem to increase linearly\n",
    "    * the first audible sound is not 1/10 of the level of the last\n",
    "* the reason is the nonlinearity of perception\n",
    "* a better mapping is logarithmic, e.g. using dbamp:"
   ]
  },
  {
   "cell_type": "code",
   "execution_count": null,
   "metadata": {},
   "outputs": [],
   "source": [
    "for v in range(0, 10):\n",
    "    db = scn.linlin(v, 0, 10, -50, 0)\n",
    "    amp = scn.dbamp(db)\n",
    "    %sc Synth.new(\"s1\", [\"freq\", 400, \"num\", 1, \"amp\", ^amp])\n",
    "    time.sleep(0.3)"
   ]
  },
  {
   "cell_type": "markdown",
   "metadata": {},
   "source": [
    "* Note that amplitude (level) is ordinal with 0\n",
    "* the mapping via dB has no zero, so can not be fully truthful\n",
    "* Note that the perceived level depends strongly on the frequency"
   ]
  },
  {
   "cell_type": "markdown",
   "metadata": {},
   "source": [
    "**Frequency --> pitch**"
   ]
  },
  {
   "cell_type": "markdown",
   "metadata": {},
   "source": [
    "* Signal frequency (Hz) affects **pitch**\n",
    "* Example: $s(t) = A(t)\\cdot\\sin(2\\pi f t)$\n",
    "* The frequency f is often constant in musical instruments\n",
    "* If it is a function of time $f(t)$ it models chirps, vibrato etc\n",
    "* Here is a set of tones with increasing frequency"
   ]
  },
  {
   "cell_type": "code",
   "execution_count": null,
   "metadata": {},
   "outputs": [],
   "source": [
    "for v in range(0, 20):\n",
    "    freq = scn.linlin(v, 0, 20, 100, 5000)\n",
    "    %sc Synth.new(\"s1\", [\"freq\", ^freq, \"num\", 1, \"amp\", 0.5])\n",
    "    time.sleep(0.2)"
   ]
  },
  {
   "cell_type": "markdown",
   "metadata": {},
   "source": [
    "* obviously the pitch does not seem to increase linearly\n",
    "    * the first audible sound is not 1/10 the pitch of the last\n",
    "* the reason is the nonlinearity of perception\n",
    "* a better mapping is logarithmic, e.g. using midicps"
   ]
  },
  {
   "cell_type": "code",
   "execution_count": null,
   "metadata": {},
   "outputs": [],
   "source": [
    "for v in range(0, 20):\n",
    "    midi = scn.linlin(v, 0, 20, 43, 111)   # scn.cpsmidi(5000) approx 111\n",
    "    freq = scn.midicps(midi)\n",
    "    %sc Synth.new(\"s1\", [\"freq\", ^freq, \"num\", 1, \"amp\", 0.5])\n",
    "    time.sleep(0.2)"
   ]
  },
  {
   "cell_type": "markdown",
   "metadata": {},
   "source": [
    "* Now the pitch is approximately equidistant\n",
    "* Note the strong dependence of level on pitch\n",
    "    * to compensate we can use the Fletcher-Munson curves compensation\n",
    "    * in supercollider available via the AmpCompA.kr UGen"
   ]
  },
  {
   "cell_type": "code",
   "execution_count": null,
   "metadata": {},
   "outputs": [],
   "source": [
    "# compare a sine without compensation\n",
    "%sc s.scope\n",
    "%sc { SinOsc.ar(MouseX.kr(50, 15000, 1)) * 0.2!2 }.play;"
   ]
  },
  {
   "cell_type": "code",
   "execution_count": null,
   "metadata": {},
   "outputs": [],
   "source": [
    "# with one that uses amplitude compensation\n",
    "%sc { var freq = MouseX.kr(50, 15000, 1); SinOsc.ar(freq) * 0.2 * AmpComp.kr(freq)!2 }.play;"
   ]
  },
  {
   "cell_type": "markdown",
   "metadata": {},
   "source": [
    "**Frequency modulation --> Roughness**\n",
    "\n",
    "and\n",
    "\n",
    "**Frequency modulation --> Vibrato**\n",
    "* these are two parameters: strength and rate"
   ]
  },
  {
   "cell_type": "code",
   "execution_count": null,
   "metadata": {},
   "outputs": [],
   "source": [
    "%%sc\n",
    "SynthDef(\"sfm\", { | out=0, freq=400, amp=0.1, vibfreq=0, vibint=0, dur=0.5, pan=0 |\n",
    "    var sig, env, mod;\n",
    "    mod = SinOsc.ar(vibfreq, mul: vibint);\n",
    "    sig = SinOsc.ar(freq+mod, mul: amp);\n",
    "    env = Line.kr(1, 0, dur, doneAction: 2).pow(2);\n",
    "    Out.ar(0, Pan2.ar(sig, pan, env));\n",
    "}).add()"
   ]
  },
  {
   "cell_type": "code",
   "execution_count": null,
   "metadata": {},
   "outputs": [],
   "source": [
    "%sc Synth.new(\\sfm, [\\dur, 1, \\freq, 500, \\vibfreq, 8, \\vibint, 20])"
   ]
  },
  {
   "cell_type": "code",
   "execution_count": null,
   "metadata": {},
   "outputs": [],
   "source": [
    "for v in range(0, 10):\n",
    "    vibfreq = scn.linlin(v, 0, 10, 0, 40)\n",
    "    vibint = 30\n",
    "    %sc Synth.new(\"sfm\", [\\dur, 0.5, \\freq, 400, \\vibfreq, ^vibfreq, \\vibint, ^vibint])\n",
    "    time.sleep(0.6)"
   ]
  },
  {
   "cell_type": "markdown",
   "metadata": {},
   "source": [
    "* Obviously, perception of fmod needs time\n",
    "* at low frequencies it is perceived as vibrato\n",
    "* at moderate frequencies it is perceived as roughness\n",
    "* at high frequencies it turns into polyphony -> FM synthesis if vibfreq coupled to freq"
   ]
  },
  {
   "cell_type": "code",
   "execution_count": null,
   "metadata": {},
   "outputs": [],
   "source": [
    "%sc FreqScope(400, 150)\n",
    "%sc {SinOsc.ar(SinOsc.ar(MouseX.kr(0, 200), mul: 20, add: 400))}.play"
   ]
  },
  {
   "cell_type": "markdown",
   "metadata": {},
   "source": [
    "**Spectral Centroid --> Sharpness**"
   ]
  },
  {
   "cell_type": "code",
   "execution_count": null,
   "metadata": {},
   "outputs": [],
   "source": [
    "# the more harmonics we have the subjectively sharper the sound\n",
    "%sc {Blip.ar(MouseX.kr(100,800), numharm: MouseY.kr(1, 50))}.play"
   ]
  },
  {
   "cell_type": "markdown",
   "metadata": {},
   "source": [
    "**Amplitude envelope (ADSR) --> Temporal Gestalt** "
   ]
  },
  {
   "cell_type": "code",
   "execution_count": null,
   "metadata": {},
   "outputs": [],
   "source": [
    "%%sc\n",
    "SynthDef(\"sadsr\", { | out=0, freq=400, amp=0.1, gate=1, att=0, dec=1, sus=1, rel=1, pan=0 |\n",
    "    var sig, env, mod;\n",
    "    sig = SinOsc.ar(freq, mul: amp);\n",
    "    env = EnvGen.kr(Env.adsr(att, dec, sus, rel, curve: -5), gate: gate, doneAction: 2);\n",
    "    Out.ar(0, Pan2.ar(sig, pan, env));\n",
    "}).add()"
   ]
  },
  {
   "cell_type": "code",
   "execution_count": null,
   "metadata": {},
   "outputs": [],
   "source": [
    "%sc x = Synth.new(\"sadsr\", [\\att, 0.2, \\dec, 1, \\sus, 0.4, \\rel, 0.7])  // note on -> start synth"
   ]
  },
  {
   "cell_type": "code",
   "execution_count": null,
   "metadata": {},
   "outputs": [],
   "source": [
    "%sc x.set(\\gate, 0)  // set note off -> proceed with the release phase of the ADSR"
   ]
  },
  {
   "cell_type": "code",
   "execution_count": null,
   "metadata": {},
   "outputs": [],
   "source": [
    "for v in range(0, 10):\n",
    "    att = scn.linlin(v, 0, 10, 0, 0.1)\n",
    "    %sc x = Synth.new(\"sadsr\", [\\att, ^att, \\dec, 0.1, \\sus, 0.1, \\rel, 0.1])\n",
    "    time.sleep(0.1)\n",
    "    %sc x.set(\\gate, 0)\n",
    "    time.sleep(0.3)"
   ]
  },
  {
   "cell_type": "markdown",
   "metadata": {},
   "source": [
    "**Timbre**\n",
    "* Defined as anything that makes a sound distinguishable from another sound of same level and pitch (ANSI)\n",
    "* broadly: a mixture of qualities such as partials, spectral profile, particla envelopes"
   ]
  },
  {
   "cell_type": "markdown",
   "metadata": {},
   "source": [
    "### Types of Mappings"
   ]
  },
  {
   "cell_type": "markdown",
   "metadata": {},
   "source": [
    "* Let's assume we are given a data set with $N$ records of $d$ features each.\n",
    "    * that gives a data table (matrix $X$) of $N$ rows and $d$ columns.\n",
    "* Time can be one column, if the data are time-indexed\n",
    "* Example of a non-time indexed data set\n",
    "    * census data: (e.g. salary, size, weight, latitude and longitude of address)\n",
    "    * iris data set: (150 plants characterized by geometric readings such as sepal size, petal length,...\n",
    "* Example of a time-indexed data set:\n",
    "    * EEG data: time stamp, voltage of various electrodes\n",
    "    * rainfall episodes: onset, duration, amount (not equidistant)\n",
    "\n",
    "**The main types of parameter mapping sonifications are:**\n",
    "* Discrete PMSon (iris): for each row create a sound event, mapping features to parameters\n",
    "* Continuous PMSon (building, ecg): modulate one (or more) continuous sound streams by data as they change\n",
    "* Event-based PMSon (building, ecg): spawn events if certain conditions are met (e.g. maximum, sign change...)\n",
    "\n",
    "Below we will see implementations of these types"
   ]
  },
  {
   "cell_type": "markdown",
   "metadata": {},
   "source": [
    "**Mapping Function**\n",
    "* linear: "
   ]
  },
  {
   "cell_type": "code",
   "execution_count": null,
   "metadata": {},
   "outputs": [],
   "source": [
    "# scn.linlin(v, src_from, src_to, dest_from, dest_to)\n",
    "v = np.linspace(-10,10,1000)\n",
    "plt.plot(v, scn.linlin(v, -5, 5, 20, 50)); plt.grid()"
   ]
  },
  {
   "cell_type": "markdown",
   "metadata": {},
   "source": [
    "* logarithmic /exponential mapping"
   ]
  },
  {
   "cell_type": "code",
   "execution_count": null,
   "metadata": {},
   "outputs": [],
   "source": [
    "# np.log(scn.linlin(v, src_from, src_to, dest_from, dest_to))\n",
    "v = np.linspace(1,10,1000) # no zero crossing allowed\n",
    "plt.plot(v, np.log(scn.linlin(v, 1, 10, 1, 50))); plt.grid()"
   ]
  },
  {
   "cell_type": "code",
   "execution_count": null,
   "metadata": {},
   "outputs": [],
   "source": [
    "# np.exp(scn.linlin(v, src_from, src_to, dest_from, dest_to))\n",
    "v = np.linspace(1, 10, 1000) # no zero crossing allowed\n",
    "plt.plot(v, np.exp(scn.linlin(v, 1, 10, 1, 5))); plt.grid()"
   ]
  },
  {
   "cell_type": "markdown",
   "metadata": {},
   "source": [
    "* custom, e.g. polynomial"
   ]
  },
  {
   "cell_type": "code",
   "execution_count": null,
   "metadata": {},
   "outputs": [],
   "source": [
    "v = np.linspace(-1, 1, 1000) # zero crossing allowed\n",
    "for o in [0.25, 0.5, 1, 2, 4, 10]:\n",
    "    plt.plot(v, np.sign(v)*scn.linlin(abs(v), -1, 1, -1, 1)**o, label=f'order{o}'); \n",
    "plt.grid(); plt.legend();plt.axis('equal')"
   ]
  },
  {
   "cell_type": "markdown",
   "metadata": {},
   "source": [
    "* clipping"
   ]
  },
  {
   "cell_type": "code",
   "execution_count": null,
   "metadata": {},
   "outputs": [],
   "source": [
    "# scn.clip(v, min, max)\n",
    "plt.plot(v, [scn.clip(x, -1, 0.5) for x in v]); plt.grid();"
   ]
  },
  {
   "cell_type": "markdown",
   "metadata": {},
   "source": [
    "* data-driven mapping (linearized pdf)\n",
    "    * here we estimate the cumulative density function from a given dataset cdf(x)\n",
    "    * for any x we map linear interpolated cdf(x) to the destination range"
   ]
  },
  {
   "cell_type": "code",
   "execution_count": null,
   "metadata": {},
   "outputs": [],
   "source": [
    "import scipy.interpolate\n",
    "import scipy as sp\n",
    "x = np.random.randn(400)\n",
    "plt.plot(x, 0*x, '.', ms=10, alpha=0.01)\n",
    "hc, hx = np.histogram(x, 30)\n",
    "plt.plot(hx[:-1], hc/max(hc))\n",
    "cx = np.sort(x)\n",
    "cy = np.arange(len(cx))/float(len(cx))\n",
    "plt.plot(cx, cy);\n",
    "cdfn = sp.interpolate.interp1d(cx, cy)  # cdfn can be used as mapping function\n",
    "plt.plot(v, cdfn(v)); plt.grid();"
   ]
  },
  {
   "cell_type": "markdown",
   "metadata": {},
   "source": [
    "* 1:N-mapping, N:N-mapping, N:1-mapping\n",
    "    * these are different mapping styles"
   ]
  },
  {
   "cell_type": "markdown",
   "metadata": {},
   "source": [
    "### Load some data sets"
   ]
  },
  {
   "cell_type": "code",
   "execution_count": 3,
   "metadata": {
    "code_folding": []
   },
   "outputs": [],
   "source": [
    "# store them in a data set dictionary\n",
    "ds = {}\n",
    "\n",
    "def bpfilter(sig, lp=0.5, hp=50, sr=1000):\n",
    "    f1 = lp / (sr/2)\n",
    "    f2 = hp / (sr/2)\n",
    "    b, a = scipy.signal.iirfilter(4, [f1, f2], btype='band', analog=False, ftype='butter')\n",
    "    return scipy.signal.filtfilt(b, a, sig, method=\"gust\", axis=0) "
   ]
  },
  {
   "cell_type": "markdown",
   "metadata": {},
   "source": [
    "#### ECG "
   ]
  },
  {
   "cell_type": "code",
   "execution_count": null,
   "metadata": {},
   "outputs": [],
   "source": [
    "draw = np.loadtxt(\"data/normalPTBDBpatient131s0273lre-1KHz.csv\", delimiter=' ')\n",
    "data = bpfilter(draw[:20000,0:6], 0.5, 40, sr=1000)\n",
    "ds['ecg'] = data[:20000:10]\n",
    "plt.plot(ds['ecg'][400:800]);"
   ]
  },
  {
   "cell_type": "markdown",
   "metadata": {},
   "source": [
    "#### Iris data"
   ]
  },
  {
   "cell_type": "code",
   "execution_count": null,
   "metadata": {},
   "outputs": [],
   "source": [
    "draw = np.loadtxt(\"data/iris.csv\", delimiter=',')\n",
    "ds['iris'] = draw[:, 1:]\n",
    "d = ds['iris']\n",
    "plt.scatter(d[:,2], d[:,3], c=d[:,4])\n",
    "# plt.axis('equal');"
   ]
  },
  {
   "cell_type": "markdown",
   "metadata": {},
   "source": [
    "#### Building data set"
   ]
  },
  {
   "cell_type": "code",
   "execution_count": 4,
   "metadata": {},
   "outputs": [
    {
     "data": {
      "image/png": "[encoded data removed]",
      "text/plain": [
       "<Figure size 432x288 with 1 Axes>"
      ]
     },
     "metadata": {
      "needs_background": "light"
     },
     "output_type": "display_data"
    }
   ],
   "source": [
    "data = np.loadtxt(\"data/building.csv\", delimiter=\",\", usecols=range(1,18))\n",
    "ds['building'] = data\n",
    "columns = [ \"monday\", \"tuesday\", \"wednesday\", \"thursday\", \"friday\",\"saturday\", \"sunday\", \n",
    "\"hour_from_noon\", \"hour\", \"am_pm\", \"temperature\", \"humidity\", \"solar_radiation\", \n",
    "\"wind_speed\", \"hc_wb_electrical\", \"hc_wb_cold_water\", \"hc_wb_hot_water\"]\n",
    "d = data.copy()\n",
    "k=8\n",
    "for i, r in enumerate(d[:1000,k:].T):\n",
    "    plt.plot(r + 2*i, label=columns[k+i]);\n",
    "    plt.text(-500, 2*i, columns[k+i])"
   ]
  },
  {
   "cell_type": "code",
   "execution_count": null,
   "metadata": {
    "code_folding": [
     0
    ]
   },
   "outputs": [],
   "source": [
    "# PCA -- skip, not relevant\n",
    "from sklearn.decomposition import PCA\n",
    "data = ds['iris'][:,:4] # omit class label as input for PCA\n",
    "pca = PCA(n_components=2)\n",
    "dpca = pca.fit_transform(data)\n",
    "plt.scatter(dpca[:,0], dpca[:,1], c=ds['iris'][:,4]);\n",
    "pca.components_"
   ]
  },
  {
   "cell_type": "markdown",
   "metadata": {
    "heading_collapsed": true
   },
   "source": [
    "### TimedQueue Basics"
   ]
  },
  {
   "cell_type": "markdown",
   "metadata": {
    "hidden": true
   },
   "source": [
    "**Motivation**:\n",
    "* for sonifications with precise timing, thousends of events need to be spawn at the exact time.\n",
    "* doing this with bundles doesn't work as the OSC buffer of scsynth is limited\n",
    "* it needs a TimedQueue where events can be added for time-precise dispatching\n",
    "* a thread then simply checks what items are due and executes them\n",
    "* using arbitrary functions as objects for the queue allows to use it both for sonification (e.g. sending OSC messages/bundles) and even visualization\n",
    "* however, the functions should complete really quickly as otherwise the queue would run late and fail to process due events\n",
    "* hence, it is the responsibility of the user to be careful\n",
    "* if, however, longer programs are needed, they can be spawn as threads on execution\n",
    "* The following demos illustrate the core functionality with console print and sound"
   ]
  },
  {
   "cell_type": "code",
   "execution_count": null,
   "metadata": {
    "hidden": true
   },
   "outputs": [],
   "source": [
    "queue = scn.TimedQueue()"
   ]
  },
  {
   "cell_type": "code",
   "execution_count": null,
   "metadata": {
    "hidden": true
   },
   "outputs": [],
   "source": [
    "import sys\n",
    "def myfun(x):\n",
    "    os.write(1, \"{}\\n\".format(x).encode())\n",
    "    sys.stderr.flush()\n",
    "    \n",
    "def myblip(freq):\n",
    "    sc.msg(\"/s_new\", [\"s1\", -1, 1, 0, \"freq\", freq, \"num\", 3])"
   ]
  },
  {
   "cell_type": "code",
   "execution_count": null,
   "metadata": {
    "hidden": true
   },
   "outputs": [],
   "source": [
    "myfun(4)"
   ]
  },
  {
   "cell_type": "code",
   "execution_count": null,
   "metadata": {
    "hidden": true
   },
   "outputs": [],
   "source": [
    "myblip(700)"
   ]
  },
  {
   "cell_type": "code",
   "execution_count": null,
   "metadata": {
    "hidden": true
   },
   "outputs": [],
   "source": [
    "t0 = time.time()\n",
    "for i in range(50):\n",
    "    queue.put(t0+i*0.04, myblip, 800+1*7*i)\n",
    "    queue.put(t0+i*0.04, myfun,  400+30*i)\n",
    "print(time.time()-t0)"
   ]
  },
  {
   "cell_type": "code",
   "execution_count": null,
   "metadata": {
    "hidden": true
   },
   "outputs": [],
   "source": [
    "queue.close()"
   ]
  },
  {
   "cell_type": "markdown",
   "metadata": {},
   "source": [
    "### Simplest possible PMSon Example"
   ]
  },
  {
   "cell_type": "code",
   "execution_count": 5,
   "metadata": {},
   "outputs": [],
   "source": [
    "queue = scn.TimedQueueSC(sc)"
   ]
  },
  {
   "cell_type": "code",
   "execution_count": null,
   "metadata": {},
   "outputs": [],
   "source": [
    "d = ds['iris']\n",
    "plt.scatter(d[:,3], d[:,1], c=[['r','g','b'][int(v)] for v in d[:,4]])\n",
    "t0 = time.time()\n",
    "delay = 0.2\n",
    "for r in d:\n",
    "    onset = scn.linlin(r[3],  0,   2.7,   0,   4)\n",
    "    freq  = scn.linlin(r[1],  2,   4.5, 400, 800)    \n",
    "    queue.put(t0+delay+onset, sc.msg, \n",
    "              (\"/s_new\", [\"s1\", -1, 1, 1, 'freq', freq, 'amp', 0.01, 'num', 1]))"
   ]
  },
  {
   "cell_type": "markdown",
   "metadata": {},
   "source": [
    "**Remarks:**\n",
    "* the mapping is manually chosen\n",
    "    * ranges have to be manually specified\n",
    "    * this makes experimentation tedious, as lots of details need to be adapted"
   ]
  },
  {
   "cell_type": "markdown",
   "metadata": {},
   "source": [
    "### Column-aware mapping"
   ]
  },
  {
   "cell_type": "markdown",
   "metadata": {},
   "source": [
    "The following function mapcol() looks up the min/max values in a column and maps linearly to a value range"
   ]
  },
  {
   "cell_type": "code",
   "execution_count": 6,
   "metadata": {},
   "outputs": [],
   "source": [
    "def mapcol(row, stats, col, val_from, val_to):  # helper for mapping\n",
    "    return scn.linlin(row[col], stats[col, 0], stats[col, 1], val_from, val_to)"
   ]
  },
  {
   "cell_type": "markdown",
   "metadata": {},
   "source": [
    "For it we need an array stats with minimum and maximum value for all columns\n",
    "* This is easily computed with python with the one liner:\n",
    "\n",
    "      stats = np.vstack((np.min(data, 0), np.max(data, 0))).T"
   ]
  },
  {
   "cell_type": "code",
   "execution_count": null,
   "metadata": {},
   "outputs": [],
   "source": [
    "data = ds['iris']\n",
    "stats = np.vstack((np.min(data, 0), np.max(data, 0))).T\n",
    "t0 = time.time()\n",
    "delay = 0.2\n",
    "for r in d:\n",
    "    onset = mapcol(r, stats, 2,   0.0,  3.0)\n",
    "    freq  = mapcol(r, stats, 3,   400, 1000)\n",
    "    queue.put(t0 + delay + onset, sc.msg, (\"/s_new\", \n",
    "        [\"s1\", -1, 1, 1, 'freq', freq, 'amp', 0.1, 'num', 1]))"
   ]
  },
  {
   "cell_type": "markdown",
   "metadata": {},
   "source": [
    "* now we can easily choose columns and parameter ranges"
   ]
  },
  {
   "cell_type": "markdown",
   "metadata": {},
   "source": [
    "## Parameter Mapping Sonification Types"
   ]
  },
  {
   "cell_type": "markdown",
   "metadata": {},
   "source": [
    "### Discrete Parameter Mapping"
   ]
  },
  {
   "cell_type": "markdown",
   "metadata": {},
   "source": [
    "* we basically covered DPMSon above, here a snippet for your convenience with more mapping\n",
    "* of course, you can create several synths in parallel and play polyphony etc."
   ]
  },
  {
   "cell_type": "code",
   "execution_count": null,
   "metadata": {},
   "outputs": [],
   "source": [
    "# queue = scn.TimedQueueSC(sc)  # needed only once, so don't re-evaluate if you have one already"
   ]
  },
  {
   "cell_type": "code",
   "execution_count": null,
   "metadata": {},
   "outputs": [],
   "source": [
    "def mapcol(row, stats, col, val_from, val_to):  # helper for mapping\n",
    "    return scn.linlin(row[col], stats[col, 0], stats[col, 1], val_from, val_to)"
   ]
  },
  {
   "cell_type": "code",
   "execution_count": null,
   "metadata": {},
   "outputs": [],
   "source": [
    "data = ds['iris']\n",
    "stats = np.vstack((np.min(data, 0), np.max(data, 0))).T\n",
    "t0 = time.time()\n",
    "delay = 0.2\n",
    "for r in d:\n",
    "    onset = mapcol(r, stats, 2,   0.0,   3.0)\n",
    "    freq  = mapcol(r, stats, 3,   100,  1000)\n",
    "    pan   = mapcol(r, stats, 1,    -1,     1)\n",
    "    num   = mapcol(r, stats, 0,    1,     10)\n",
    "    dur   = mapcol(r, stats, 4,    2,    0.3)\n",
    "    queue.put(t0 + delay + onset, sc.msg, (\"/s_new\", \n",
    "        [\"s1\", -1, 1, 1, 'freq', freq, 'num', num, 'dur', dur, 'pan', pan]))"
   ]
  },
  {
   "cell_type": "code",
   "execution_count": null,
   "metadata": {},
   "outputs": [],
   "source": [
    "plt.plot(d[:, 2], d[:,3], \".\")"
   ]
  },
  {
   "cell_type": "markdown",
   "metadata": {},
   "source": [
    "### Continuous Parameter Mapping"
   ]
  },
  {
   "cell_type": "markdown",
   "metadata": {},
   "source": [
    "* For continuous PMSon, we first need to create a continuously playing synth"
   ]
  },
  {
   "cell_type": "code",
   "execution_count": null,
   "metadata": {},
   "outputs": [],
   "source": [
    "%sc x = Synth.new(\"s2\", [\\amp, 0.04])"
   ]
  },
  {
   "cell_type": "markdown",
   "metadata": {},
   "source": [
    "* We then modulate it with help of the (usually time-indexed) data values"
   ]
  },
  {
   "cell_type": "code",
   "execution_count": null,
   "metadata": {},
   "outputs": [],
   "source": [
    "%sc x.set('freq', 250)"
   ]
  },
  {
   "cell_type": "markdown",
   "metadata": {},
   "source": [
    "* Finally we stop the sound streams"
   ]
  },
  {
   "cell_type": "code",
   "execution_count": null,
   "metadata": {},
   "outputs": [],
   "source": [
    "%sc x.free"
   ]
  },
  {
   "cell_type": "markdown",
   "metadata": {},
   "source": [
    "* Mapping is similar to the discrete case, but beware that now values have temporal persistence\n",
    "* this rules out some salient cues, such as attack time, or duration (which don't make sense with streams...)\n",
    "* Here comes a full example for ECG data"
   ]
  },
  {
   "cell_type": "code",
   "execution_count": null,
   "metadata": {},
   "outputs": [],
   "source": [
    "def mapcol(row, stats, col, val_from, val_to):  # helper for mapping\n",
    "    return scn.linlin(row[col], stats[col, 0], stats[col, 1], val_from, val_to)\n",
    "\n",
    "data = ds['ecg'][1000:2000]  # select only 10s starting from second 10\n",
    "stats = np.vstack((np.min(data, 0), np.max(data, 0))).T\n",
    "plt.plot(data[:1000,0]);"
   ]
  },
  {
   "cell_type": "code",
   "execution_count": null,
   "metadata": {},
   "outputs": [],
   "source": [
    "t0 = time.time()\n",
    "delay = 0.2\n",
    "\n",
    "# instantiate synths\n",
    "queue.put(t0+delay, sc.msg, (\"/s_new\", [\"s2\", 1234, 1, 1]))\n",
    "\n",
    "# modulate with data while playing through time\n",
    "for i, r in enumerate(data):\n",
    "    onset = scn.linlin(i, 0, len(data), 0, 10.0)\n",
    "    freq  = scn.midicps(mapcol(r, stats, 1,   60,  90))\n",
    "    pan   = mapcol(r, stats, 2,    -1,     1)\n",
    "    amp   = scn.dbamp(mapcol(r, stats, 3,    -30,  0))\n",
    "    queue.put(t0 + delay + onset, sc.msg, (\"/n_set\", \n",
    "        [1234, 'freq', freq, 'num', 1, 'pan', pan, 'amp', amp]))\n",
    "\n",
    "# shut down synth when finished\n",
    "queue.put(t0 + delay + onset, sc.msg, (\"/n_free\", 1234))"
   ]
  },
  {
   "cell_type": "markdown",
   "metadata": {},
   "source": [
    "### Event-based Parameter Mapping"
   ]
  },
  {
   "cell_type": "markdown",
   "metadata": {},
   "source": [
    "* Event-based PMSon is more similar to discrete PMSon...\n",
    "* but we do not sonify all data but only key moments (events)"
   ]
  },
  {
   "cell_type": "markdown",
   "metadata": {},
   "source": [
    "# Challenge:\n",
    "Create a PMSon of the building dataset where all relevant information can be discerned and understood. Variables:\n"
   ]
  },
  {
   "cell_type": "code",
   "execution_count": 7,
   "metadata": {},
   "outputs": [
    {
     "data": {
      "image/png": "[encoded data removed]",
      "text/plain": [
       "<Figure size 432x288 with 1 Axes>"
      ]
     },
     "metadata": {
      "needs_background": "light"
     },
     "output_type": "display_data"
    }
   ],
   "source": [
    "d = ds['building']\n",
    "columns = [ \"monday\", \"tuesday\", \"wednesday\", \"thursday\", \"friday\",\"saturday\", \"sunday\", \n",
    "\"hour_from_noon\", \"hour\", \"am_pm\", \"temperature\", \"humidity\", \"solar_radiation\", \n",
    "\"wind_speed\", \"hc_wb_electrical\", \"hc_wb_cold_water\", \"hc_wb_hot_water\"]\n",
    "k=0\n",
    "for i, r in enumerate(d[:2400,k:].T):\n",
    "    plt.plot(r + 2*i, label=columns[k+i]);\n",
    "    plt.text(-500, 2*i, columns[k+i])"
   ]
  },
  {
   "cell_type": "code",
   "execution_count": 8,
   "metadata": {},
   "outputs": [],
   "source": [
    "%%sc \n",
    "SynthDef.new(\\playbuf, {| out=0, bufnum=0, rate=1, amp=0.2, pan=0 |\n",
    "    var sig;\n",
    "    sig = PlayBuf.ar(1, bufnum, rate*BufRateScale.kr(bufnum), doneAction:2);\n",
    "    Out.ar(0, Pan2.ar(sig, pan, amp));\n",
    "}).add();"
   ]
  },
  {
   "cell_type": "code",
   "execution_count": 9,
   "metadata": {},
   "outputs": [],
   "source": [
    "%sc b = Buffer.read(s, \"samples/time-marker.wav\")"
   ]
  },
  {
   "cell_type": "code",
   "execution_count": 12,
   "metadata": {},
   "outputs": [],
   "source": [
    "%sc Synth.new(\\playbuf, [\\bufnum, b.bufnum, \\amp, 1, \\rate, 2.0])\n",
    "bufnum = %scg b.bufnum"
   ]
  },
  {
   "cell_type": "code",
   "execution_count": 13,
   "metadata": {},
   "outputs": [],
   "source": [
    "%%sc\n",
    "SynthDef(\"elec\", {| out=0, freq=100, amp=0.05, rate=500, rtime=0.1, pan=0 |\n",
    "    var inp, sig;\n",
    "    inp = Dust.ar(rate);\n",
    "    sig = DynKlank.ar(`[freq*[8, 10.71, 11.53, 17.23], nil, rtime*[1, 1, 1, 1]], inp);\n",
    "    Out.ar(out, Pan2.ar(sig, pan, amp));\n",
    "}).add()"
   ]
  },
  {
   "cell_type": "code",
   "execution_count": 14,
   "metadata": {},
   "outputs": [],
   "source": [
    "%sc x = Synth.new(\\elec)"
   ]
  },
  {
   "cell_type": "code",
   "execution_count": 15,
   "metadata": {},
   "outputs": [],
   "source": [
    "%sc x.set(\\rate, 5)"
   ]
  },
  {
   "cell_type": "code",
   "execution_count": 16,
   "metadata": {},
   "outputs": [],
   "source": [
    "%sc x.free"
   ]
  },
  {
   "cell_type": "code",
   "execution_count": 27,
   "metadata": {},
   "outputs": [],
   "source": [
    "%%sc \n",
    "SynthDef(\"wind\", {|out=0, cf=1000, rq=0.1, amp=0.1|\n",
    "    Out.ar(out, BPF.ar(WhiteNoise.ar(amp), cf, rq))\n",
    "}).add()   "
   ]
  },
  {
   "cell_type": "code",
   "execution_count": 28,
   "metadata": {},
   "outputs": [],
   "source": [
    "%sc y = Synth.new(\"wind\")"
   ]
  },
  {
   "cell_type": "code",
   "execution_count": 29,
   "metadata": {},
   "outputs": [],
   "source": [
    "%sc y.free"
   ]
  },
  {
   "cell_type": "code",
   "execution_count": 26,
   "metadata": {},
   "outputs": [],
   "source": [
    "t0 = time.time()\n",
    "delay = 0.2\n",
    "\n",
    "# instantiate synths\n",
    "queue.put(t0, sc.msg, (\"/s_new\", [\"elec\", 1234, 1, 1, 'amp', 0.1]))\n",
    "queue.put(t0, sc.msg, (\"/s_new\", [\"s2\", 1235, 1, 1, 'amp', 0.1]))\n",
    "queue.put(t0, sc.msg, (\"/s_new\", [\"wind\", 1236, 1, 1, 'amp', 0.1]))\n",
    "\n",
    "# modulate with data while playing through time\n",
    "for i, r in enumerate(d[1000:1000+240]):\n",
    "    onset = scn.linlin(i, 0, 240, 0, 10.0)\n",
    "    rate  = scn.linlin(r[14], 0.3, 0.8, 1, 200)\n",
    "    amp   = scn.linlin(r[14], 0.3,0.7, 0, 0.2)\n",
    "    queue.put(t0 + delay + onset, sc.msg, (\"/n_set\", \n",
    "        [1234, 'rate', rate, 'amp', amp]))\n",
    "    # midi = scn.linlin(r[10], 0.3, 1, 40, 47)\n",
    "    # t_freq = scn.midicps( midi )\n",
    "    t_freq = 100\n",
    "    t_amp = scn.dbamp(scn.linlin(r[10], 0.3, 1, -50, -10))\n",
    "    queue.put(t0 + delay + onset, sc.msg, (\"/n_set\", \n",
    "        [1235, 'freq', t_freq, 'amp', t_amp]))\n",
    "    cf = scn.linlin(r[13], 0,1, 100, 5000)\n",
    "    queue.put(t0 + delay + onset, sc.msg, (\"/n_set\", \n",
    "        [1236, 'cf', cf, 'amp', 1]))\n",
    "    if r[8] == -1:  # that is midnight\n",
    "        if r[5]==1 or r[6]==1: \n",
    "            rate = 2\n",
    "        else:\n",
    "            rate = 1\n",
    "        queue.put(t0 + delay + onset, sc.msg, (\"/s_new\", \n",
    "            [\"playbuf\", -1, 1, 1, \"bufnum\", bufnum, \"amp\", 1, \"rate\", rate]))\n",
    "        \n",
    "# shut down synth when finished\n",
    "queue.put(t0 + delay + onset+0.1, sc.msg, (\"/n_free\", 1234))\n",
    "queue.put(t0 + delay + onset+0.1, sc.msg, (\"/n_free\", 1235))\n",
    "queue.put(t0 + delay + onset+0.1, sc.msg, (\"/n_free\", 1236))"
   ]
  },
  {
   "cell_type": "code",
   "execution_count": null,
   "metadata": {},
   "outputs": [],
   "source": [
    "plt.plot(d[:2400,10])"
   ]
  }
 ],
 "metadata": {
  "kernelspec": {
   "display_name": "Python 3",
   "language": "python",
   "name": "python3"
  },
  "language_info": {
   "codemirror_mode": {
    "name": "ipython",
    "version": 3
   },
   "file_extension": ".py",
   "mimetype": "text/x-python",
   "name": "python",
   "nbconvert_exporter": "python",
   "pygments_lexer": "ipython3",
   "version": "3.6.8"
  }
 },
 "nbformat": 4,
 "nbformat_minor": 2
}
