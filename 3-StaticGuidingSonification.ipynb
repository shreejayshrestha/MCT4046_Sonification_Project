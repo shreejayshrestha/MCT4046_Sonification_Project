{
 "cells": [
  {
   "cell_type": "markdown",
   "metadata": {},
   "source": [
    "# Static 2D Guiding Sonification"
   ]
  },
  {
   "cell_type": "markdown",
   "metadata": {},
   "source": [
    "**Task**: design a sonification to guide a human operator (e.g. surgeon) to reach a 2D target as precise and fast as possible, i.e. create a sonification using the actual and nominal 2D position so that the target location can be found at least time and with as little distance from start to goal target location. \n",
    "\n",
    "This notebook provides a template\n",
    "* a plot window shows the start position\n",
    "* mouse events are connected to callback functions to anchor actions \n",
    "    * click the mouse to update the sonification\n",
    "    * move the mouse to attain the target\n",
    "    * a high pitched sound is played once the target is reached\n",
    "    * on releasing the Mouse, the actual trajectory is appended to a list of runs\n",
    "* Three function (son_init, son_update and son_quit) allow you to modify the sonification interactively: you can always interact and listen between modifications\n",
    "* some rudimentary evaluation methods (RMSE) are defined, but feel free to analyze the interaction data in more detail."
   ]
  },
  {
   "cell_type": "code",
   "execution_count": 1,
   "metadata": {
    "code_folding": [
     0
    ]
   },
   "outputs": [
    {
     "name": "stdout",
     "output_type": "stream",
     "text": [
      "Using matplotlib backend: Qt5Agg\n"
     ]
    },
    {
     "data": {
      "application/javascript": [
       "Jupyter.keyboard_manager.command_shortcuts.add_shortcut(\n",
       "                                        'cmd-.', {\n",
       "                                        help : 'sc.cmd(\"s.freeAll\")',\n",
       "                                        help_index : 'zz',\n",
       "                                        handler : function (event) {\n",
       "                                            IPython.notebook.kernel.execute(\"sc.cmd('s.freeAll')\")\n",
       "                                            return true;}\n",
       "                                    });"
      ],
      "text/plain": [
       "<IPython.core.display.Javascript object>"
      ]
     },
     "metadata": {},
     "output_type": "display_data"
    }
   ],
   "source": [
    "# heading/imports\n",
    "import time, pickle\n",
    "from datetime import datetime\n",
    "from threading import Thread\n",
    "import numpy as np\n",
    "import matplotlib.pyplot as plt\n",
    "%matplotlib\n",
    "import sc3nb as scn"
   ]
  },
  {
   "cell_type": "code",
   "execution_count": 2,
   "metadata": {
    "scrolled": false
   },
   "outputs": [
    {
     "name": "stdout",
     "output_type": "stream",
     "text": [
      "Starting sclang...\n",
      "Done.\n",
      "Registering UDP callback...\n",
      "Done.\n",
      "Booting server...\n",
      "Done.\n",
      "\"sc3nb started\";\n",
      "-> sc3nb started\n",
      "sc3> sc3> \n"
     ]
    }
   ],
   "source": [
    "sc = scn.startup()  # opt. add arg sclangpath=\"/path/to/sclang\""
   ]
  },
  {
   "cell_type": "code",
   "execution_count": 3,
   "metadata": {},
   "outputs": [
    {
     "name": "stdout",
     "output_type": "stream",
     "text": [
      "Using matplotlib backend: Qt5Agg\n"
     ]
    }
   ],
   "source": [
    "%matplotlib"
   ]
  },
  {
   "cell_type": "code",
   "execution_count": 4,
   "metadata": {
    "code_folding": [
     0,
     2,
     32,
     37,
     48,
     64,
     88,
     100,
     109
    ]
   },
   "outputs": [],
   "source": [
    "class StaticTargetTask:\n",
    "\n",
    "    def __init__(self, num_targets=5, plot_flag=True):\n",
    "        # generate new targets \n",
    "        self.num_targets = num_targets\n",
    "        self.targets = np.random.uniform(low=0, high=1, size=(self.num_targets, 2))\n",
    "        self.count = 0\n",
    "        self.target = self.targets[self.count, :]\n",
    "        self.plist = []\n",
    "        self.runs = []\n",
    "        self.run_flag = False\n",
    "        self.plot_flag = plot_flag\n",
    "        self.son_init = None\n",
    "        self.son_update = None\n",
    "        self.son_quit = None\n",
    "\n",
    "        # create plot and bind callback functions\n",
    "        self.fig = plt.figure(figsize=(5,5))\n",
    "        self.ax = plt.subplot(111)\n",
    "        self.p0, = self.ax.plot([0.5], [0.5], \"ro\", ms=4)\n",
    "        self.p1, = self.ax.plot([], [], \"r-\", lw=0.5)\n",
    "        self.ax.axis([0, 1, 0, 1])\n",
    "        self.mngr = plt.get_current_fig_manager()\n",
    "        self.mngr.window.setGeometry(1100, 0, 500, 550)\n",
    "\n",
    "        self.update_plot() # plot\n",
    "        \n",
    "        self.canvas = self.fig.canvas\n",
    "        self.canvas.mpl_connect('button_press_event', self.button_press_callback)\n",
    "        self.canvas.mpl_connect('motion_notify_event', self.motion_notify_callback)\n",
    "        self.canvas.mpl_connect('button_release_event', self.button_release_callback)\n",
    "        \n",
    "    def set_sonification(self, init_fn, update_fn, quit_fn):\n",
    "        self.son_init = init_fn\n",
    "        self.son_update = update_fn\n",
    "        self.son_quit = quit_fn\n",
    "\n",
    "    def update_plot(self):\n",
    "        if self.plot_flag:\n",
    "            self.ax.plot(self.targets[:,0], self.targets[:,1], \"bo\", ms=2)\n",
    "        self.data = np.array(self.plist)\n",
    "        if len(self.data): \n",
    "            self.p1.set_data(self.data[:,1], self.data[:,2])\n",
    "        else:\n",
    "            self.p1.set_data([], [])    \n",
    "        plt.axis([0,1,0,1])\n",
    "        plt.pause(0.001)\n",
    "\n",
    "    def button_press_callback(self, event):\n",
    "        if self.count == self.num_targets-1:\n",
    "            print(\"all targets completed\")\n",
    "            return\n",
    "        self.plist = []\n",
    "        self.trial_start_time = time.time()\n",
    "        if event.inaxes is None: # outside plot area\n",
    "            return \n",
    "        if event.button != 1: # ignore other than left click \n",
    "            return\n",
    "        if (event.xdata-0.5)**2 + (event.ydata-0.5)**2 < 0.01: # start only if clicked in center\n",
    "            self.run_flag = True\n",
    "            if callable(self.son_init):\n",
    "                self.son_init(self)  # initialize sonification\n",
    "            self.update_plot()\n",
    "\n",
    "    def motion_notify_callback(self, event):\n",
    "        if not self.run_flag:\n",
    "            return\n",
    "        if event.inaxes is None: \n",
    "            return\n",
    "        if event.button != 1: \n",
    "            return\n",
    "        self.pos = event.xdata, event.ydata # current position of mouse\n",
    "        vector = [self.pos[0], self.pos[1], self.target[0], self.target[1]] \n",
    "        t = time.time()-self.trial_start_time\n",
    "        self.plist.append([t] + vector)  # save mouse position history for plotting afterwards\n",
    "        distance = np.sum((self.pos - self.target)**2)**0.5\n",
    "        if distance < 0.02: # if target reached set next target\n",
    "            if self.count < self.num_targets - 1:\n",
    "                %sc Synth(\\s1, [\\freq, 1500, \\num, 1])\n",
    "                self.count += 1\n",
    "                self.target = self.targets[self.count]\n",
    "            else:\n",
    "                %sc Synth(\\s1, [\\freq, 2000, \\num, 1])\n",
    "            self.run_completed()\n",
    "        else:\n",
    "            if callable(self.son_update):\n",
    "                self.son_update(self, self.pos, self.target) \n",
    "\n",
    "    def report_results(self):\n",
    "        res = []\n",
    "        for i, r in enumerate(self.runs):\n",
    "            tmax = r[-1, 0]\n",
    "            nsteps = np.shape(r)[0]\n",
    "            cum_dist = np.sum(np.linalg.norm(np.diff(r[:, 1:3], axis=0), axis=1))\n",
    "            nom_dist = np.linalg.norm(r[0, 3:]-[0.5,0.5])\n",
    "            print(\"trial {0:5} {1:8.4}s, n={2:0}, cum_dist={3:7.3}, nom_dist={4:5.5}\".format(\n",
    "                i, tmax, nsteps, cum_dist, nom_dist))\n",
    "            res.append([tmax, nsteps, cum_dist, nom_dist] + list(r[0,3:]))\n",
    "        return np.array(res)\n",
    "        \n",
    "    def run_completed(self):\n",
    "        if callable(self.son_quit):\n",
    "            self.son_quit(self)\n",
    "        self.run_flag = False\n",
    "        self.update_plot()\n",
    "        self.runs.append(self.data)\n",
    "        if self.count == self.num_targets-1: # report_results\n",
    "            self.report_results()\n",
    "            \n",
    "    def button_release_callback(self, event):\n",
    "        if event.button != 1: \n",
    "            return\n",
    "        if not self.run_flag:\n",
    "            return\n",
    "        self.run_completed()"
   ]
  },
  {
   "cell_type": "code",
   "execution_count": 7,
   "metadata": {},
   "outputs": [],
   "source": [
    "stt = StaticTargetTask(num_targets=5, plot_flag=False)\n",
    "# note: sonification will only work after adding callbacks with next two cells"
   ]
  },
  {
   "cell_type": "code",
   "execution_count": 8,
   "metadata": {
    "code_folding": [],
    "scrolled": true
   },
   "outputs": [],
   "source": [
    "%%sc // define your synth\n",
    "SynthDef(\"cont\", { |out=0, freq=100, f1=800, bw=500, amp=0.1, num=1, pos=0 |\n",
    "    Out.ar(out, Pan2.ar( Formant.ar(freq, f1, bw), pos, amp));\n",
    "}).add();\n",
    "// some test code\n",
    "s.makeBundle(0.1, {x = Synth.new(\"cont\", [\"freq\", 100, \"f1\", 400, \"bw\", 400])});\n",
    "s.makeBundle(0.2, {x.free});"
   ]
  },
  {
   "cell_type": "code",
   "execution_count": 9,
   "metadata": {},
   "outputs": [
    {
     "name": "stdout",
     "output_type": "stream",
     "text": [
      "trial     0    10.88s, n=794, cum_dist=   4.54, nom_dist=0.58382\n",
      "trial     1    5.835s, n=417, cum_dist=   1.47, nom_dist=0.48417\n",
      "trial     2     4.98s, n=309, cum_dist=   2.09, nom_dist=0.42112\n",
      "trial     3     3.28s, n=191, cum_dist=   2.11, nom_dist=0.46306\n",
      "all targets completed\n"
     ]
    }
   ],
   "source": [
    "def son_init(self):\n",
    "    sc.msg(\"/s_new\", [\"cont\", 1050, 0, 0, \"freq\", 100])\n",
    "\n",
    "def son_quit(self):\n",
    "    sc.msg(\"/n_free\", [1050])\n",
    "\n",
    "def son_update(self, pos, target):\n",
    "    distance = np.sum((pos - target)**2)**0.5\n",
    "    pos = -np.sign(pos[0]-target[0])\n",
    "    # default: sonification depends on distance alone \n",
    "    freq = scn.midicps(scn.linlin(distance, 0, 1.5, 84, 50))\n",
    "    sc.msg(\"/n_set\", [1050, \"freq\", freq, \"pos\", pos])\n",
    "\n",
    "stt.set_sonification(son_init, son_update, son_quit)"
   ]
  },
  {
   "cell_type": "markdown",
   "metadata": {},
   "source": [
    "# Evaluation of the results"
   ]
  },
  {
   "cell_type": "code",
   "execution_count": null,
   "metadata": {},
   "outputs": [],
   "source": [
    "# print and get results\n",
    "res = stt.report_results()\n",
    "# plot trajectories\n",
    "f2 = plt.figure(2)\n",
    "ax = f2.subplots(2)\n",
    "for r in stt.runs:\n",
    "    # plot trajectories\n",
    "    ax[0].plot(r[:,1], r[:,2], \"-\", lw=0.5)\n",
    "    ax[0].plot(r[0,3], r[0,4], 'bo', ms=4)\n",
    "    # plot error in x and y over time\n",
    "    ax[1].plot(r[:,0], r[:,4]-r[:,2],\"r-\")\n",
    "    ax[1].plot(r[:,0], r[:,3]-r[:,1],\"b-\");\n",
    "ax[0].axis('equal')"
   ]
  },
  {
   "cell_type": "code",
   "execution_count": null,
   "metadata": {},
   "outputs": [],
   "source": [
    "# save runs to pickle file\n",
    "with open('runs-'+datetime.now().strftime(\"%Y%m%d%H%M%S\")+'.pickle', 'wb') as handle:\n",
    "    pickle.dump(stt.runs, handle, protocol=pickle.HIGHEST_PROTOCOL)"
   ]
  },
  {
   "cell_type": "code",
   "execution_count": null,
   "metadata": {},
   "outputs": [],
   "source": [
    "# load runs for later analysis\n",
    "fname = 'runs-20180725001442.pickle'\n",
    "with open(fname, 'rb') as handle:\n",
    "    runs_loaded = pickle.load(handle)"
   ]
  }
 ],
 "metadata": {
  "kernelspec": {
   "display_name": "Python 3",
   "language": "python",
   "name": "python3"
  },
  "language_info": {
   "codemirror_mode": {
    "name": "ipython",
    "version": 3
   },
   "file_extension": ".py",
   "mimetype": "text/x-python",
   "name": "python",
   "nbconvert_exporter": "python",
   "pygments_lexer": "ipython3",
   "version": "3.6.8"
  },
  "varInspector": {
   "cols": {
    "lenName": 16,
    "lenType": 16,
    "lenVar": 40
   },
   "kernels_config": {
    "python": {
     "delete_cmd_postfix": "",
     "delete_cmd_prefix": "del ",
     "library": "var_list.py",
     "varRefreshCmd": "print(var_dic_list())"
    },
    "r": {
     "delete_cmd_postfix": ") ",
     "delete_cmd_prefix": "rm(",
     "library": "var_list.r",
     "varRefreshCmd": "cat(var_dic_list()) "
    }
   },
   "types_to_exclude": [
    "module",
    "function",
    "builtin_function_or_method",
    "instance",
    "_Feature"
   ],
   "window_display": false
  }
 },
 "nbformat": 4,
 "nbformat_minor": 2
}
